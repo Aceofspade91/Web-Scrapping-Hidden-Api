{
  "cells": [
    {
      "cell_type": "code",
      "execution_count": 162,
      "id": "4e305571",
      "metadata": {
        "id": "4e305571",
        "colab": {
          "base_uri": "https://localhost:8080/"
        },
        "outputId": "c6c77e4b-81d9-4015-ee0d-a1ed3b6bc406"
      },
      "outputs": [
        {
          "output_type": "stream",
          "name": "stdout",
          "text": [
            "{\"settlements\":[{\"month\":\"JAN 22\",\"open\":\"99.9200\",\"high\":\"99.9200\",\"low\":\"99.9150\",\"last\":\"99.9175\",\"change\":\"-.0025\",\"settle\":\"99.9150\",\"volume\":\"5,674\",\"openInterest\":\"140,879\"},{\"month\":\"FEB 22\",\"open\":\"99.9000\",\"high\":\"99.9050\",\"low\":\"99.8950\",\"last\":\"99.9000\",\"change\":\"-.0050\",\"settle\":\"99.8950\",\"volume\":\"25,593\",\"openInterest\":\"205,220\"},{\"month\":\"MAR 22\",\"open\":\"99.8050\",\"high\":\"99.8050\",\"low\":\"99.7950\",\"last\":\"99.8050\",\"change\":\"-.0050\",\"settle\":\"99.8000\",\"volume\":\"16,719\",\"openInterest\":\"69,077\"},{\"month\":\"APR 22\",\"open\":\"99.7000\",\"high\":\"99.7050\",\"low\":\"99.6950\",\"last\":\"99.6950\",\"change\":\"-.0100\",\"settle\":\"99.6950\",\"volume\":\"65,969\",\"openInterest\":\"185,721\"},{\"month\":\"MAY 22\",\"open\":\"99.6200\",\"high\":\"99.6250\",\"low\":\"99.6050\",\"last\":\"99.6050\",\"change\":\"-.0200\",\"settle\":\"99.6050\",\"volume\":\"52,206\",\"openInterest\":\"152,857\"},{\"month\":\"JUN 22\",\"open\":\"99.5300\",\"high\":\"99.5350\",\"low\":\"99.5150\",\"last\":\"99.5200\",\"change\":\"-.0250\",\"settle\":\"99.5150\",\"volume\":\"8,108\",\"openInterest\":\"49,674\"},{\"month\":\"JLY 22\",\"open\":\"99.4500\",\"high\":\"99.4550\",\"low\":\"99.4250\",\"last\":\"99.4300\",\"change\":\"-.0250\",\"settle\":\"99.4300\",\"volume\":\"26,319\",\"openInterest\":\"193,806\"},{\"month\":\"AUG 22\",\"open\":\"99.3750\",\"high\":\"99.3900\",\"low\":\"99.3600\",\"last\":\"99.3650\",\"change\":\"-.0250\",\"settle\":\"99.3650\",\"volume\":\"16,327\",\"openInterest\":\"136,029\"},{\"month\":\"SEP 22\",\"open\":\"99.3450\",\"high\":\"99.3500\",\"low\":\"99.3250\",\"last\":\"99.3300\",\"change\":\"-.0300\",\"settle\":\"99.3250\",\"volume\":\"3,739\",\"openInterest\":\"26,894\"},{\"month\":\"OCT 22\",\"open\":\"99.2600\",\"high\":\"99.2700\",\"low\":\"99.2350\",\"last\":\"99.2400\",\"change\":\"-.0350\",\"settle\":\"99.2350\",\"volume\":\"16,227\",\"openInterest\":\"73,582\"},{\"month\":\"NOV 22\",\"open\":\"99.1950\",\"high\":\"99.2100\",\"low\":\"99.1750\",\"last\":\"99.1800\",\"change\":\"-.0350\",\"settle\":\"99.1750\",\"volume\":\"7,872\",\"openInterest\":\"85,242\"},{\"month\":\"DEC 22\",\"open\":\"99.1200\",\"high\":\"99.1300\",\"low\":\"99.1000\",\"last\":\"99.1050\",\"change\":\"-.0400\",\"settle\":\"99.1000\",\"volume\":\"2,576\",\"openInterest\":\"24,548\"},{\"month\":\"JAN 23\",\"open\":\"99.0650\",\"high\":\"99.0700\",\"low\":\"99.0350\",\"last\":\"99.0450\",\"change\":\"-.0400\",\"settle\":\"99.0400\",\"volume\":\"8,274\",\"openInterest\":\"48,863\"},{\"month\":\"FEB 23\",\"open\":\"98.9850\",\"high\":\"99.0100\",\"low\":\"98.9750\",\"last\":\"98.9800\",\"change\":\"-.0400\",\"settle\":\"98.9800\",\"volume\":\"2,781\",\"openInterest\":\"29,282\"},{\"month\":\"MAR 23\",\"open\":\"98.9100\",\"high\":\"98.9200\",\"low\":\"98.9000\",\"last\":\"98.9000\",\"change\":\"-.0400\",\"settle\":\"98.9050\",\"volume\":\"91\",\"openInterest\":\"4,213\"},{\"month\":\"APR 23\",\"open\":\"98.8500\",\"high\":\"98.8600\",\"low\":\"98.8200\",\"last\":\"98.8300\",\"change\":\"-.0400\",\"settle\":\"98.8300\",\"volume\":\"1,969\",\"openInterest\":\"8,845\"},{\"month\":\"MAY 23\",\"open\":\"98.7700\",\"high\":\"98.8000\",\"low\":\"98.7600\",\"last\":\"98.7700\",\"change\":\"-.0400\",\"settle\":\"98.7700\",\"volume\":\"587\",\"openInterest\":\"6,642\"},{\"month\":\"JUN 23\",\"open\":\"98.7150\",\"high\":\"98.7400B\",\"low\":\"98.7100\",\"last\":\"98.7100A\",\"change\":\"-.0450\",\"settle\":\"98.7100\",\"volume\":\"145\",\"openInterest\":\"1,871\"},{\"month\":\"JLY 23\",\"open\":\"-\",\"high\":\"-\",\"low\":\"98.6350A\",\"last\":\"98.6350A\",\"change\":\"-.0500\",\"settle\":\"98.6400\",\"volume\":\"65\",\"openInterest\":\"1,238\"},{\"month\":\"AUG 23\",\"open\":\"98.5850\",\"high\":\"98.5850\",\"low\":\"98.5800A\",\"last\":\"98.5800A\",\"change\":\"-.0500\",\"settle\":\"98.5800\",\"volume\":\"3\",\"openInterest\":\"392\"},{\"month\":\"SEP 23\",\"open\":\"-\",\"high\":\"-\",\"low\":\"-\",\"last\":\"98.5300A\",\"change\":\"-.0500\",\"settle\":\"98.5300\",\"volume\":\"0\",\"openInterest\":\"35\"},{\"month\":\"OCT 23\",\"open\":\"-\",\"high\":\"-\",\"low\":\"98.5050A\",\"last\":\"98.4800A\",\"change\":\"-.0500\",\"settle\":\"98.4850\",\"volume\":\"0\",\"openInterest\":\"42\"},{\"month\":\"NOV 23\",\"open\":\"-\",\"high\":\"-\",\"low\":\"98.4350A\",\"last\":\"98.4350A\",\"change\":\"-.0500\",\"settle\":\"98.4150\",\"volume\":\"0\",\"openInterest\":\"31\"},{\"month\":\"DEC 23\",\"open\":\"-\",\"high\":\"-\",\"low\":\"-\",\"last\":\"98.4350A\",\"change\":\"-.0500\",\"settle\":\"98.3900\",\"volume\":\"0\",\"openInterest\":\"23\"},{\"month\":\"JAN 24\",\"open\":\"-\",\"high\":\"-\",\"low\":\"-\",\"last\":\"-\",\"change\":\"-.0500\",\"settle\":\"98.3900\",\"volume\":\"0\",\"openInterest\":\"11\"},{\"month\":\"FEB 24\",\"open\":\"-\",\"high\":\"-\",\"low\":\"-\",\"last\":\"-\",\"change\":\"-.0500\",\"settle\":\"98.3800\",\"volume\":\"0\",\"openInterest\":\"0\"},{\"month\":\"MAR 24\",\"open\":\"-\",\"high\":\"-\",\"low\":\"-\",\"last\":\"-\",\"change\":\"-.0500\",\"settle\":\"98.3800\",\"volume\":\"0\",\"openInterest\":\"0\"},{\"month\":\"APR 24\",\"open\":\"-\",\"high\":\"-\",\"low\":\"-\",\"last\":\"-\",\"change\":\"-.0500\",\"settle\":\"98.3800\",\"volume\":\"0\",\"openInterest\":\"0\"},{\"month\":\"MAY 24\",\"open\":\"-\",\"high\":\"-\",\"low\":\"-\",\"last\":\"-\",\"change\":\"-.0500\",\"settle\":\"98.3800\",\"volume\":\"0\",\"openInterest\":\"0\"},{\"month\":\"JUN 24\",\"open\":\"-\",\"high\":\"-\",\"low\":\"-\",\"last\":\"-\",\"change\":\"-.0500\",\"settle\":\"98.2900\",\"volume\":\"0\",\"openInterest\":\"0\"},{\"month\":\"JLY 24\",\"open\":\"-\",\"high\":\"-\",\"low\":\"-\",\"last\":\"-\",\"change\":\"-.0500\",\"settle\":\"98.2900\",\"volume\":\"0\",\"openInterest\":\"0\"},{\"month\":\"AUG 24\",\"open\":\"-\",\"high\":\"-\",\"low\":\"-\",\"last\":\"-\",\"change\":\"-.0500\",\"settle\":\"98.2900\",\"volume\":\"0\",\"openInterest\":\"0\"},{\"month\":\"SEP 24\",\"open\":\"-\",\"high\":\"-\",\"low\":\"-\",\"last\":\"-\",\"change\":\"-.0500\",\"settle\":\"98.2900\",\"volume\":\"0\",\"openInterest\":\"0\"},{\"month\":\"OCT 24\",\"open\":\"-\",\"high\":\"-\",\"low\":\"-\",\"last\":\"-\",\"change\":\"-.0500\",\"settle\":\"98.2900\",\"volume\":\"0\",\"openInterest\":\"0\"},{\"month\":\"NOV 24\",\"open\":\"-\",\"high\":\"-\",\"low\":\"-\",\"last\":\"-\",\"change\":\"-.0500\",\"settle\":\"98.2900\",\"volume\":\"0\",\"openInterest\":\"0\"},{\"month\":\"DEC 24\",\"open\":\"-\",\"high\":\"-\",\"low\":\"-\",\"last\":\"-\",\"change\":\"-.0500\",\"settle\":\"98.1700\",\"volume\":\"0\",\"openInterest\":\"0\"},{\"month\":\"JAN 25\",\"open\":\"-\",\"high\":\"-\",\"low\":\"-\",\"last\":\"-\",\"change\":\"UNCH\",\"settle\":\"98.3000\",\"volume\":\"0\",\"openInterest\":\"0\"},{\"month\":\"FEB 25\",\"open\":\"-\",\"high\":\"-\",\"low\":\"-\",\"last\":\"-\",\"change\":\"UNCH\",\"settle\":\"98.3000\",\"volume\":\"0\",\"openInterest\":\"0\"},{\"month\":\"MAR 25\",\"open\":\"-\",\"high\":\"-\",\"low\":\"-\",\"last\":\"-\",\"change\":\"UNCH\",\"settle\":\"98.3000\",\"volume\":\"0\",\"openInterest\":\"0\"},{\"month\":\"APR 25\",\"open\":\"-\",\"high\":\"-\",\"low\":\"-\",\"last\":\"-\",\"change\":\"UNCH\",\"settle\":\"98.3000\",\"volume\":\"0\",\"openInterest\":\"0\"},{\"month\":\"MAY 25\",\"open\":\"-\",\"high\":\"-\",\"low\":\"-\",\"last\":\"-\",\"change\":\"UNCH\",\"settle\":\"98.3000\",\"volume\":\"0\",\"openInterest\":\"0\"},{\"month\":\"JUN 25\",\"open\":\"-\",\"high\":\"-\",\"low\":\"-\",\"last\":\"-\",\"change\":\"UNCH\",\"settle\":\"98.3000\",\"volume\":\"0\",\"openInterest\":\"0\"},{\"month\":\"JLY 25\",\"open\":\"-\",\"high\":\"-\",\"low\":\"-\",\"last\":\"-\",\"change\":\"UNCH\",\"settle\":\"98.3000\",\"volume\":\"0\",\"openInterest\":\"0\"},{\"month\":\"AUG 25\",\"open\":\"-\",\"high\":\"-\",\"low\":\"-\",\"last\":\"-\",\"change\":\"UNCH\",\"settle\":\"98.3000\",\"volume\":\"0\",\"openInterest\":\"0\"},{\"month\":\"SEP 25\",\"open\":\"-\",\"high\":\"-\",\"low\":\"-\",\"last\":\"-\",\"change\":\"UNCH\",\"settle\":\"98.3000\",\"volume\":\"0\",\"openInterest\":\"0\"},{\"month\":\"OCT 25\",\"open\":\"-\",\"high\":\"-\",\"low\":\"-\",\"last\":\"-\",\"change\":\"UNCH\",\"settle\":\"98.3000\",\"volume\":\"0\",\"openInterest\":\"0\"},{\"month\":\"NOV 25\",\"open\":\"-\",\"high\":\"-\",\"low\":\"-\",\"last\":\"-\",\"change\":\"UNCH\",\"settle\":\"98.3000\",\"volume\":\"0\",\"openInterest\":\"0\"},{\"month\":\"DEC 25\",\"open\":\"-\",\"high\":\"-\",\"low\":\"-\",\"last\":\"-\",\"change\":\"UNCH\",\"settle\":\"98.1800\",\"volume\":\"0\",\"openInterest\":\"0\"},{\"month\":\"JAN 26\",\"open\":\"-\",\"high\":\"-\",\"low\":\"-\",\"last\":\"-\",\"change\":\"UNCH\",\"settle\":\"98.0800\",\"volume\":\"0\",\"openInterest\":\"0\"},{\"month\":\"FEB 26\",\"open\":\"-\",\"high\":\"-\",\"low\":\"-\",\"last\":\"-\",\"change\":\"UNCH\",\"settle\":\"98.0800\",\"volume\":\"0\",\"openInterest\":\"0\"},{\"month\":\"MAR 26\",\"open\":\"-\",\"high\":\"-\",\"low\":\"-\",\"last\":\"-\",\"change\":\"UNCH\",\"settle\":\"98.0800\",\"volume\":\"0\",\"openInterest\":\"0\"},{\"month\":\"APR 26\",\"open\":\"-\",\"high\":\"-\",\"low\":\"-\",\"last\":\"-\",\"change\":\"UNCH\",\"settle\":\"98.0800\",\"volume\":\"0\",\"openInterest\":\"0\"},{\"month\":\"MAY 26\",\"open\":\"-\",\"high\":\"-\",\"low\":\"-\",\"last\":\"-\",\"change\":\"UNCH\",\"settle\":\"98.0800\",\"volume\":\"0\",\"openInterest\":\"0\"},{\"month\":\"JUN 26\",\"open\":\"-\",\"high\":\"-\",\"low\":\"-\",\"last\":\"-\",\"change\":\"UNCH\",\"settle\":\"98.0800\",\"volume\":\"0\",\"openInterest\":\"0\"},{\"month\":\"JLY 26\",\"open\":\"-\",\"high\":\"-\",\"low\":\"-\",\"last\":\"-\",\"change\":\"UNCH\",\"settle\":\"98.0800\",\"volume\":\"0\",\"openInterest\":\"0\"},{\"month\":\"AUG 26\",\"open\":\"-\",\"high\":\"-\",\"low\":\"-\",\"last\":\"-\",\"change\":\"UNCH\",\"settle\":\"98.0000\",\"volume\":\"0\",\"openInterest\":\"0\"},{\"month\":\"SEP 26\",\"open\":\"-\",\"high\":\"-\",\"low\":\"-\",\"last\":\"-\",\"change\":\"UNCH\",\"settle\":\"98.0000\",\"volume\":\"0\",\"openInterest\":\"0\"},{\"month\":\"OCT 26\",\"open\":\"-\",\"high\":\"-\",\"low\":\"-\",\"last\":\"-\",\"change\":\"UNCH\",\"settle\":\"97.9950\",\"volume\":\"0\",\"openInterest\":\"0\"},{\"month\":\"NOV 26\",\"open\":\"-\",\"high\":\"-\",\"low\":\"-\",\"last\":\"-\",\"change\":\"UNCH\",\"settle\":\"97.9750\",\"volume\":\"0\",\"openInterest\":\"0\"},{\"month\":\"DEC 26\",\"open\":\"-\",\"high\":\"-\",\"low\":\"-\",\"last\":\"-\",\"change\":\"UNCH\",\"settle\":\"97.9550\",\"volume\":\"0\",\"openInterest\":\"0\"},{\"month\":\"Total\",\"open\":\"\",\"high\":\"\",\"low\":\"\",\"last\":\"\",\"change\":\"\",\"settle\":\"\",\"volume\":\"261,244\",\"openInterest\":\"1,445,017\"}],\"updateTime\":\"Tuesday, 11 Jan 2022 10:32 PM\",\"dsHeader\":\"30 Day Federal Funds Future\",\"reportType\":\"Final\",\"tradeDate\":\"01/10/2022\",\"empty\":false}\n"
          ]
        }
      ],
      "source": [
        "import requests\n",
        "\n",
        "url = \"https://www.cmegroup.com/CmeWS/mvc/Settlements/Futures/Settlements/305/FUT\"\n",
        "\n",
        "querystring = {\"strategy\":\"DEFAULT\",\"tradeDate\":\"01/10/2022\",\"pageSize\":\"500\",\"isProtected\":\"\",\"_t\":\"1642000733169\"}\n",
        "\n",
        "headers = {\n",
        "    \"cookie\": \"bm_sv=9E51B762296FEEB6959E730208096F03~zbPiK4%2BgVfq%2FFYTkT5tvEkwTvSOgmAE%2BfQypy1GAMYMe17Ni7XTMogxoDptOxH0vwLiwybyEdqRJZGdusLal%2FRDDuxhMpx5KCuBCEWMHEf0WSBaGqlykleOMA1ckr88%2F26FwnaDCsRBB8aqV1MmRpA35xsIUM%2FvIpA75UARf7AA%3D\",\n",
        "    \"Connection\": \"keep-alive\",\n",
        "   \n",
        "    \"Accept\": \"application/json, text/plain, */*\",\n",
        "    \"sec-ch-ua-mobile\": \"?0\",\n",
        "    \"User-Agent\": \"Mozilla/5.0 (X11; Linux x86_64) AppleWebKit/537.36 (KHTML, like Gecko) Chrome/96.0.4664.110 Safari/537.36 OPR/82.0.4227.43\",\n",
        "    \n",
        "    \"Sec-Fetch-Site\": \"same-origin\",\n",
        "    \"Sec-Fetch-Mode\": \"cors\",\n",
        "    \"Sec-Fetch-Dest\": \"empty\",\n",
        "    \"Referer\": \"https://www.cmegroup.com/markets/interest-rates/stirs/30-day-federal-fund.settlements.html\",\n",
        "    \"Accept-Language\": \"en-US,en;q=0.9\",\n",
        "    \"Cookie\": \"_evga_5cd7={ %22uuid%22:%2251e096bce971190b%22 }; _gcl_au=1.1.2123010560.1641665842; _fbp=fb.1.1641665843483.1277989069; kppid=locjRuMxIt9; _CEFT=Q%3D%3D%3D; cmeConsentCookie=true; pi_opt_in502091=true; visitor_id502091=607455864; visitor_id502091-hash=e3e307d9031d2e17c524ee51099a44c21350adcd2b4b62bd10186d08245504a1ba524bc9e354d1d9595990d6bf4cf52c1a1c67b1; _gid=GA1.2.1518336592.1641993381; cmeUTMSource=; cmeUTMMedium=; cmeUTMTerm=; cmeUTMCampaign=; cmeUTMContent=; ak_bmsc=8A8C753509A376801EA01DB0B4124770~000000000000000000000000000000~YAAQXLVlXwVvpZ99AQAA2LPcTg56ZRBRKqfAbdxr+fvHKekfQF4/FOvtnYVRvM5aEwVoaGQ+I44qQ4VuI+VsnniHXq891ueVQvi/tsVKZugf23H5oiw7xq9Ids0DBAWXVbKYsMxCty8AhHSWguQRqDeo0RI8YEF+7k6z2+O38vWCr/JD7cd5doo+d6DgvHW0opOI3m7xffRlJN6pb5vCwzpgsulikhArHNM/hMPhdeuUP9kT5u6sJVY7EWZ1kNcx1Ez6sEsgktyieMBwygMpMfPKu9/3feFPTVDf0VU9EkkzlYQfAXxwTrp+ogZlNy6V6OgJiusJhiY1pECnRL/nbY9P1+qmTRx0aBXHOirSNk9JWYB/2WNwxurXK12WLA1LcA==; __atuvc=4%7C1%2C5%7C2; __atuvs=61deee1a99e4a223001; __atssc=google%3B5; _ga_L69G7D7MMN=GS1.1.1641999896.5.1.1642000727.0; _ga=GA1.2.1074606521.1641665843; _dc_gtm_UA-6562664-1=1; _gat_superDomainTracker=1; bm_sv=9E51B762296FEEB6959E730208096F03~zbPiK4+gVfq/FYTkT5tvEkwTvSOgmAE+fQypy1GAMYMe17Ni7XTMogxoDptOxH0vwLiwybyEdqRJZGdusLal/RDDuxhMpx5KCuBCEWMHEf1+0nHcJHzWDmf5VOBQI7s38VW/YNnabIVe+KnOTlN03UCuo609JYtgUOcZRwmzieY=; _gat_UA-63130032-1=1\"\n",
        "}\n",
        "\n",
        "r = requests.request(\"GET\", url, headers=headers, params=querystring)\n",
        "\n",
        "print(r.text)"
      ]
    },
    {
      "cell_type": "code",
      "execution_count": 163,
      "id": "e98e8b07",
      "metadata": {
        "id": "e98e8b07"
      },
      "outputs": [],
      "source": [
        "res=[]\n",
        "data=r.json()\n",
        "for d in data[\"settlements\"]:\n",
        "  res.append(d)\n",
        "\n",
        "\n"
      ]
    },
    {
      "cell_type": "code",
      "execution_count": 164,
      "id": "27be5186",
      "metadata": {
        "id": "27be5186"
      },
      "outputs": [],
      "source": [
        "df = pd.json_normalize(res)\n",
        "df.to_csv('E-commerce.csv')"
      ]
    }
  ],
  "metadata": {
    "kernelspec": {
      "display_name": "Python 3 (ipykernel)",
      "language": "python",
      "name": "python3"
    },
    "language_info": {
      "codemirror_mode": {
        "name": "ipython",
        "version": 3
      },
      "file_extension": ".py",
      "mimetype": "text/x-python",
      "name": "python",
      "nbconvert_exporter": "python",
      "pygments_lexer": "ipython3",
      "version": "3.9.7"
    },
    "colab": {
      "name": "E-commerce.ipynb",
      "provenance": []
    }
  },
  "nbformat": 4,
  "nbformat_minor": 5
}